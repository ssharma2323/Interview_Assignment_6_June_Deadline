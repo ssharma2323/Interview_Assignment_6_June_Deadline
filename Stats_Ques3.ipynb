{
 "cells": [
  {
   "cell_type": "markdown",
   "id": "3d22eb08",
   "metadata": {},
   "source": [
    "Q-3. Consider the ‘Blood Pressure Before’ and ‘Blood Pressure After’ columns from the data and calculate the following\n",
    "\n",
    "a. Measure the dispersion in both and interpret the results"
   ]
  },
  {
   "cell_type": "code",
   "execution_count": 1,
   "id": "0fafae49",
   "metadata": {},
   "outputs": [],
   "source": [
    "import pandas as pd\n",
    "data=pd.read_excel('C://Users//A146363//Desktop//My_Folder//Zomato_delivery_time_prediction//data.xlsx')"
   ]
  },
  {
   "cell_type": "code",
   "execution_count": 2,
   "id": "8b09e5d6",
   "metadata": {},
   "outputs": [
    {
     "data": {
      "text/html": [
       "<div>\n",
       "<style scoped>\n",
       "    .dataframe tbody tr th:only-of-type {\n",
       "        vertical-align: middle;\n",
       "    }\n",
       "\n",
       "    .dataframe tbody tr th {\n",
       "        vertical-align: top;\n",
       "    }\n",
       "\n",
       "    .dataframe thead th {\n",
       "        text-align: right;\n",
       "    }\n",
       "</style>\n",
       "<table border=\"1\" class=\"dataframe\">\n",
       "  <thead>\n",
       "    <tr style=\"text-align: right;\">\n",
       "      <th></th>\n",
       "      <th>Patient ID</th>\n",
       "      <th>Blood Pressure Before (mmHg)</th>\n",
       "      <th>Blood Pressure After (mmHg)</th>\n",
       "    </tr>\n",
       "  </thead>\n",
       "  <tbody>\n",
       "    <tr>\n",
       "      <th>0</th>\n",
       "      <td>1</td>\n",
       "      <td>130</td>\n",
       "      <td>120</td>\n",
       "    </tr>\n",
       "    <tr>\n",
       "      <th>1</th>\n",
       "      <td>2</td>\n",
       "      <td>142</td>\n",
       "      <td>135</td>\n",
       "    </tr>\n",
       "    <tr>\n",
       "      <th>2</th>\n",
       "      <td>3</td>\n",
       "      <td>120</td>\n",
       "      <td>118</td>\n",
       "    </tr>\n",
       "    <tr>\n",
       "      <th>3</th>\n",
       "      <td>4</td>\n",
       "      <td>135</td>\n",
       "      <td>127</td>\n",
       "    </tr>\n",
       "    <tr>\n",
       "      <th>4</th>\n",
       "      <td>5</td>\n",
       "      <td>148</td>\n",
       "      <td>140</td>\n",
       "    </tr>\n",
       "  </tbody>\n",
       "</table>\n",
       "</div>"
      ],
      "text/plain": [
       "   Patient ID  Blood Pressure Before (mmHg)  Blood Pressure After (mmHg)\n",
       "0           1                           130                          120\n",
       "1           2                           142                          135\n",
       "2           3                           120                          118\n",
       "3           4                           135                          127\n",
       "4           5                           148                          140"
      ]
     },
     "execution_count": 2,
     "metadata": {},
     "output_type": "execute_result"
    }
   ],
   "source": [
    "data.head()"
   ]
  },
  {
   "cell_type": "code",
   "execution_count": 3,
   "id": "183f3231",
   "metadata": {},
   "outputs": [
    {
     "data": {
      "text/plain": [
       "28"
      ]
     },
     "execution_count": 3,
     "metadata": {},
     "output_type": "execute_result"
    }
   ],
   "source": [
    "#measure of dispersion- range,variance,std\n",
    "\n",
    "range_of_Blood_Pressure_Before=max(data['Blood Pressure Before (mmHg)'])-min(data['Blood Pressure Before (mmHg)'])\n",
    "range_of_Blood_Pressure_Before"
   ]
  },
  {
   "cell_type": "code",
   "execution_count": 4,
   "id": "b04bf560",
   "metadata": {},
   "outputs": [
    {
     "data": {
      "text/plain": [
       "23"
      ]
     },
     "execution_count": 4,
     "metadata": {},
     "output_type": "execute_result"
    }
   ],
   "source": [
    "range_of_Blood_Pressure_after=max(data['Blood Pressure After (mmHg)'])-min(data['Blood Pressure After (mmHg)'])\n",
    "range_of_Blood_Pressure_after"
   ]
  },
  {
   "cell_type": "markdown",
   "id": "af42841e",
   "metadata": {},
   "source": [
    "range_of_Blood_Pressure_Before has high range as compare to range_of_Blood_Pressure_after indicating greater dispersion for range_of_Blood_Pressure_Before"
   ]
  },
  {
   "cell_type": "code",
   "execution_count": 5,
   "id": "29566ae7",
   "metadata": {},
   "outputs": [
    {
     "data": {
      "text/plain": [
       "6.598278012275076"
      ]
     },
     "execution_count": 5,
     "metadata": {},
     "output_type": "execute_result"
    }
   ],
   "source": [
    "import statistics\n",
    "\n",
    "std_Blood_Pressure_Before=statistics.stdev(data['Blood Pressure Before (mmHg)'])\n",
    "std_Blood_Pressure_Before"
   ]
  },
  {
   "cell_type": "code",
   "execution_count": 6,
   "id": "26be6364",
   "metadata": {},
   "outputs": [
    {
     "data": {
      "text/plain": [
       "6.888022102523226"
      ]
     },
     "execution_count": 6,
     "metadata": {},
     "output_type": "execute_result"
    }
   ],
   "source": [
    "std_Blood_Pressure_after=statistics.stdev(data['Blood Pressure After (mmHg)'])\n",
    "std_Blood_Pressure_after"
   ]
  },
  {
   "cell_type": "code",
   "execution_count": 7,
   "id": "f704e96c",
   "metadata": {},
   "outputs": [
    {
     "data": {
      "text/plain": [
       "43.53727272727272"
      ]
     },
     "execution_count": 7,
     "metadata": {},
     "output_type": "execute_result"
    }
   ],
   "source": [
    "variance_Blood_Pressure_Before=std_Blood_Pressure_Before**2\n",
    "variance_Blood_Pressure_Before"
   ]
  },
  {
   "cell_type": "code",
   "execution_count": 8,
   "id": "fc3d0545",
   "metadata": {},
   "outputs": [
    {
     "data": {
      "text/plain": [
       "47.44484848484848"
      ]
     },
     "execution_count": 8,
     "metadata": {},
     "output_type": "execute_result"
    }
   ],
   "source": [
    "std_Blood_Pressure_after=std_Blood_Pressure_after**2\n",
    "std_Blood_Pressure_after"
   ]
  },
  {
   "cell_type": "markdown",
   "id": "791927a4",
   "metadata": {},
   "source": [
    "variance and standard deviation shows dispersion from mean. Since Blood_Pressure_after has high dispersion as compare to Blood_Pressure_before implyimg Blood_Pressure_after has more variation from mean.\n",
    "\n",
    "b. Calculate mean and 5% confidence interval and plot it in a graph"
   ]
  },
  {
   "cell_type": "code",
   "execution_count": 9,
   "id": "7b03d248",
   "metadata": {},
   "outputs": [
    {
     "data": {
      "text/plain": [
       "128.36"
      ]
     },
     "execution_count": 9,
     "metadata": {},
     "output_type": "execute_result"
    }
   ],
   "source": [
    "mean_Blood_Pressure_after=sum(data['Blood Pressure After (mmHg)'])/len(data['Blood Pressure After (mmHg)'])\n",
    "mean_Blood_Pressure_after"
   ]
  },
  {
   "cell_type": "code",
   "execution_count": 10,
   "id": "3a9a4578",
   "metadata": {},
   "outputs": [
    {
     "data": {
      "text/plain": [
       "133.91"
      ]
     },
     "execution_count": 10,
     "metadata": {},
     "output_type": "execute_result"
    }
   ],
   "source": [
    "mean_Blood_Pressure_Before=sum(data['Blood Pressure Before (mmHg)'])/len(data['Blood Pressure Before (mmHg)'])\n",
    "mean_Blood_Pressure_Before"
   ]
  },
  {
   "cell_type": "code",
   "execution_count": 11,
   "id": "851b3839",
   "metadata": {},
   "outputs": [
    {
     "name": "stdout",
     "output_type": "stream",
     "text": [
      "Blood pressure after : Lower bound:-  163.728096969697  and upper bound is  349.71190303030306\n"
     ]
    }
   ],
   "source": [
    "#95% confidence interval means left tail area will be 2.5% for which z score from z table will be 1.96\n",
    "#x = z*std+mean\n",
    "\n",
    "Blood_Pressure_after_upper_bound=mean_Blood_Pressure_after+ 1.96*std_Blood_Pressure_after+mean_Blood_Pressure_after\n",
    "Blood_Pressure_after_lower_bound=mean_Blood_Pressure_after- 1.96*std_Blood_Pressure_after+mean_Blood_Pressure_after\n",
    "print(\"Blood pressure after : Lower bound:- \",Blood_Pressure_after_lower_bound,\" and upper bound is \", Blood_Pressure_after_upper_bound)"
   ]
  },
  {
   "cell_type": "code",
   "execution_count": 12,
   "id": "f099ae7c",
   "metadata": {},
   "outputs": [
    {
     "name": "stdout",
     "output_type": "stream",
     "text": [
      "Blood pressure before : Lower bound:-  254.88737509594085  and upper bound is  280.75262490405913\n"
     ]
    }
   ],
   "source": [
    "#95% confidence interval means left tail area will be 2.5% for which z score from z table will be 1.96\n",
    "#x = z*std+mean\n",
    "\n",
    "Blood_Pressure_before_upper_bound=mean_Blood_Pressure_Before+ 1.96*std_Blood_Pressure_Before+mean_Blood_Pressure_Before\n",
    "Blood_Pressure_before_lower_bound=mean_Blood_Pressure_Before- 1.96*std_Blood_Pressure_Before+mean_Blood_Pressure_Before\n",
    "print(\"Blood pressure before : Lower bound:- \",Blood_Pressure_before_lower_bound,\" and upper bound is \", Blood_Pressure_before_upper_bound)"
   ]
  },
  {
   "cell_type": "markdown",
   "id": "090ceba5",
   "metadata": {},
   "source": [
    "c. Calculate the Mean absolute deviation and Standard deviation and interpret the results"
   ]
  },
  {
   "cell_type": "code",
   "execution_count": 13,
   "id": "26dafc01",
   "metadata": {},
   "outputs": [
    {
     "name": "stdout",
     "output_type": "stream",
     "text": [
      " BP After Mean Absolute Deviation (MAD): 5.9\n"
     ]
    }
   ],
   "source": [
    "import numpy as np\n",
    "\n",
    "BP_after_absolute_deviations = np.abs(data['Blood Pressure After (mmHg)'] - mean_Blood_Pressure_after)  \n",
    "BP_after_mad = np.mean(BP_after_absolute_deviations)  \n",
    "\n",
    "print(\" BP After Mean Absolute Deviation (MAD):\", BP_after_mad)"
   ]
  },
  {
   "cell_type": "code",
   "execution_count": 14,
   "id": "95274e37",
   "metadata": {},
   "outputs": [
    {
     "name": "stdout",
     "output_type": "stream",
     "text": [
      " BP Before Mean Absolute Deviation (MAD): 5.7118\n"
     ]
    }
   ],
   "source": [
    "import numpy as np\n",
    "\n",
    "BP_Before_absolute_deviations = np.abs(data['Blood Pressure Before (mmHg)'] - mean_Blood_Pressure_Before)  \n",
    "BP_Before_mad = np.mean(BP_Before_absolute_deviations)  \n",
    "\n",
    "print(\" BP Before Mean Absolute Deviation (MAD):\", BP_Before_mad)"
   ]
  },
  {
   "cell_type": "markdown",
   "id": "0b35ef09",
   "metadata": {},
   "source": [
    "Mean Absolute Deviation shows average of absolte deviation from mean. Since \"Blood pressure after\" has more MAD so it shows \"Blood Pressure after\" high deviation from mean as compare to \"blood pressure before\""
   ]
  },
  {
   "cell_type": "markdown",
   "id": "a34a4f1d",
   "metadata": {},
   "source": [
    "d. Calculate the correlation coefficient and check the significance of it at 1% level of significance."
   ]
  },
  {
   "cell_type": "code",
   "execution_count": 15,
   "id": "d99cc971",
   "metadata": {},
   "outputs": [
    {
     "name": "stdout",
     "output_type": "stream",
     "text": [
      "Correlation coefficient: 0.9779485966556016\n"
     ]
    }
   ],
   "source": [
    "correlation_after_and_before = np.corrcoef(data['Blood Pressure After (mmHg)'],data['Blood Pressure Before (mmHg)'])[0,1]\n",
    "\n",
    "print(\"Correlation coefficient:\", correlation_after_and_before)"
   ]
  },
  {
   "cell_type": "code",
   "execution_count": 16,
   "id": "ee4b8f2c",
   "metadata": {},
   "outputs": [
    {
     "name": "stdout",
     "output_type": "stream",
     "text": [
      "0.9779485966556019 1.8097381433068541e-68\n"
     ]
    }
   ],
   "source": [
    "from scipy.stats import pearsonr\n",
    "\n",
    "correlation, p_value = pearsonr(data['Blood Pressure After (mmHg)'], data['Blood Pressure Before (mmHg)'])\n",
    "print(correlation, p_value)"
   ]
  },
  {
   "cell_type": "markdown",
   "id": "3e6bbf56",
   "metadata": {},
   "source": [
    "Since p value is less then 0.01 we can reject null hypothesis. and can say correlation 0.97 is statistically significant"
   ]
  }
 ],
 "metadata": {
  "kernelspec": {
   "display_name": "Python 3 (ipykernel)",
   "language": "python",
   "name": "python3"
  },
  "language_info": {
   "codemirror_mode": {
    "name": "ipython",
    "version": 3
   },
   "file_extension": ".py",
   "mimetype": "text/x-python",
   "name": "python",
   "nbconvert_exporter": "python",
   "pygments_lexer": "ipython3",
   "version": "3.10.9"
  }
 },
 "nbformat": 4,
 "nbformat_minor": 5
}
