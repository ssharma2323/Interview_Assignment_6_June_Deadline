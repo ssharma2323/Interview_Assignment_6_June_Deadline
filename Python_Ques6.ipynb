{
 "cells": [
  {
   "cell_type": "markdown",
   "id": "b7e6977b",
   "metadata": {},
   "source": [
    "Question 6 - Using the data from Question 3, write code to analyze the data and answer the following questions Note 1. Draw plots to demonstrate the analysis for the following questions for better visualizations. 2. Write code comments wherever required for code understanding Insights to be drawn - ● Get all Pokemons whose spawn rate is less than 5% ● Get all Pokemons that have less than 4 weaknesses ● Get all Pokemons that have no multipliers at all ● Get all Pokemons that do not have more than 2 evolutions ● Get all Pokemons whose spawn time is less than 300 seconds. Note - spawn time format is '05:32', so assume “minute: second” format and perform the analysis. ● Get all Pokemon who have more than two types of capabilities\n"
   ]
  },
  {
   "cell_type": "code",
   "execution_count": 7,
   "id": "4f014bdf",
   "metadata": {},
   "outputs": [
    {
     "data": {
      "text/html": [
       "<div>\n",
       "<style scoped>\n",
       "    .dataframe tbody tr th:only-of-type {\n",
       "        vertical-align: middle;\n",
       "    }\n",
       "\n",
       "    .dataframe tbody tr th {\n",
       "        vertical-align: top;\n",
       "    }\n",
       "\n",
       "    .dataframe thead th {\n",
       "        text-align: right;\n",
       "    }\n",
       "</style>\n",
       "<table border=\"1\" class=\"dataframe\">\n",
       "  <thead>\n",
       "    <tr style=\"text-align: right;\">\n",
       "      <th></th>\n",
       "      <th>id</th>\n",
       "      <th>num</th>\n",
       "      <th>name</th>\n",
       "      <th>img</th>\n",
       "      <th>type</th>\n",
       "      <th>height</th>\n",
       "      <th>weight</th>\n",
       "      <th>candy</th>\n",
       "      <th>candy_count</th>\n",
       "      <th>egg</th>\n",
       "      <th>spawn_chance</th>\n",
       "      <th>avg_spawns</th>\n",
       "      <th>spawn_time</th>\n",
       "      <th>multipliers</th>\n",
       "      <th>weakness</th>\n",
       "      <th>next_evolution</th>\n",
       "      <th>prev_evolution</th>\n",
       "    </tr>\n",
       "  </thead>\n",
       "  <tbody>\n",
       "    <tr>\n",
       "      <th>0</th>\n",
       "      <td>1</td>\n",
       "      <td>1</td>\n",
       "      <td>Bulbasaur</td>\n",
       "      <td>http://www.serebii.net/pokemongo/pokemon/001.png</td>\n",
       "      <td>Grass, Poison</td>\n",
       "      <td>0.71 m</td>\n",
       "      <td>6.9 kg</td>\n",
       "      <td>Bulbasaur Candy</td>\n",
       "      <td>25</td>\n",
       "      <td>2 km</td>\n",
       "      <td>0.690</td>\n",
       "      <td>69.0</td>\n",
       "      <td>20:00</td>\n",
       "      <td>[1.58]</td>\n",
       "      <td>Fire, Ice, Flying, Psychic</td>\n",
       "      <td>Ivysaur, Venusaur</td>\n",
       "      <td>NaN</td>\n",
       "    </tr>\n",
       "    <tr>\n",
       "      <th>1</th>\n",
       "      <td>2</td>\n",
       "      <td>2</td>\n",
       "      <td>Ivysaur</td>\n",
       "      <td>http://www.serebii.net/pokemongo/pokemon/002.png</td>\n",
       "      <td>Grass, Poison</td>\n",
       "      <td>0.99 m</td>\n",
       "      <td>13.0 kg</td>\n",
       "      <td>Bulbasaur Candy</td>\n",
       "      <td>100</td>\n",
       "      <td>Not in Eggs</td>\n",
       "      <td>0.042</td>\n",
       "      <td>4.2</td>\n",
       "      <td>07:00</td>\n",
       "      <td>[1.2, 1.6]</td>\n",
       "      <td>Fire, Ice, Flying, Psychic</td>\n",
       "      <td>Venusaur</td>\n",
       "      <td>Bulbasaur</td>\n",
       "    </tr>\n",
       "    <tr>\n",
       "      <th>2</th>\n",
       "      <td>3</td>\n",
       "      <td>3</td>\n",
       "      <td>Venusaur</td>\n",
       "      <td>http://www.serebii.net/pokemongo/pokemon/003.png</td>\n",
       "      <td>Grass, Poison</td>\n",
       "      <td>2.01 m</td>\n",
       "      <td>100.0 kg</td>\n",
       "      <td>Bulbasaur Candy</td>\n",
       "      <td>0</td>\n",
       "      <td>Not in Eggs</td>\n",
       "      <td>0.017</td>\n",
       "      <td>1.7</td>\n",
       "      <td>11:30</td>\n",
       "      <td>NaN</td>\n",
       "      <td>Fire, Ice, Flying, Psychic</td>\n",
       "      <td>NaN</td>\n",
       "      <td>Bulbasaur, Ivysaur</td>\n",
       "    </tr>\n",
       "    <tr>\n",
       "      <th>3</th>\n",
       "      <td>4</td>\n",
       "      <td>4</td>\n",
       "      <td>Charmander</td>\n",
       "      <td>http://www.serebii.net/pokemongo/pokemon/004.png</td>\n",
       "      <td>Fire</td>\n",
       "      <td>0.61 m</td>\n",
       "      <td>8.5 kg</td>\n",
       "      <td>Charmander Candy</td>\n",
       "      <td>25</td>\n",
       "      <td>2 km</td>\n",
       "      <td>0.253</td>\n",
       "      <td>25.3</td>\n",
       "      <td>08:45</td>\n",
       "      <td>[1.65]</td>\n",
       "      <td>Water, Ground, Rock</td>\n",
       "      <td>Charmeleon, Charizard</td>\n",
       "      <td>NaN</td>\n",
       "    </tr>\n",
       "    <tr>\n",
       "      <th>4</th>\n",
       "      <td>5</td>\n",
       "      <td>5</td>\n",
       "      <td>Charmeleon</td>\n",
       "      <td>http://www.serebii.net/pokemongo/pokemon/005.png</td>\n",
       "      <td>Fire</td>\n",
       "      <td>1.09 m</td>\n",
       "      <td>19.0 kg</td>\n",
       "      <td>Charmander Candy</td>\n",
       "      <td>100</td>\n",
       "      <td>Not in Eggs</td>\n",
       "      <td>0.012</td>\n",
       "      <td>1.2</td>\n",
       "      <td>19:00</td>\n",
       "      <td>[1.79]</td>\n",
       "      <td>Water, Ground, Rock</td>\n",
       "      <td>Charizard</td>\n",
       "      <td>Charmander</td>\n",
       "    </tr>\n",
       "  </tbody>\n",
       "</table>\n",
       "</div>"
      ],
      "text/plain": [
       "   id  num        name                                               img  \\\n",
       "0   1    1   Bulbasaur  http://www.serebii.net/pokemongo/pokemon/001.png   \n",
       "1   2    2     Ivysaur  http://www.serebii.net/pokemongo/pokemon/002.png   \n",
       "2   3    3    Venusaur  http://www.serebii.net/pokemongo/pokemon/003.png   \n",
       "3   4    4  Charmander  http://www.serebii.net/pokemongo/pokemon/004.png   \n",
       "4   5    5  Charmeleon  http://www.serebii.net/pokemongo/pokemon/005.png   \n",
       "\n",
       "            type  height    weight             candy  candy_count  \\\n",
       "0  Grass, Poison  0.71 m    6.9 kg   Bulbasaur Candy           25   \n",
       "1  Grass, Poison  0.99 m   13.0 kg   Bulbasaur Candy          100   \n",
       "2  Grass, Poison  2.01 m  100.0 kg   Bulbasaur Candy            0   \n",
       "3           Fire  0.61 m    8.5 kg  Charmander Candy           25   \n",
       "4           Fire  1.09 m   19.0 kg  Charmander Candy          100   \n",
       "\n",
       "           egg  spawn_chance  avg_spawns spawn_time multipliers  \\\n",
       "0         2 km         0.690        69.0      20:00      [1.58]   \n",
       "1  Not in Eggs         0.042         4.2      07:00  [1.2, 1.6]   \n",
       "2  Not in Eggs         0.017         1.7      11:30         NaN   \n",
       "3         2 km         0.253        25.3      08:45      [1.65]   \n",
       "4  Not in Eggs         0.012         1.2      19:00      [1.79]   \n",
       "\n",
       "                     weakness         next_evolution      prev_evolution  \n",
       "0  Fire, Ice, Flying, Psychic      Ivysaur, Venusaur                 NaN  \n",
       "1  Fire, Ice, Flying, Psychic               Venusaur           Bulbasaur  \n",
       "2  Fire, Ice, Flying, Psychic                    NaN  Bulbasaur, Ivysaur  \n",
       "3         Water, Ground, Rock  Charmeleon, Charizard                 NaN  \n",
       "4         Water, Ground, Rock              Charizard          Charmander  "
      ]
     },
     "execution_count": 7,
     "metadata": {},
     "output_type": "execute_result"
    }
   ],
   "source": [
    "import numpy as np\n",
    "import requests\n",
    "import json\n",
    "import pandas as pd\n",
    "\n",
    "# Function to download data from the given URL\n",
    "def download_data(url):\n",
    "    response = requests.get(url)\n",
    "    data = response.json()\n",
    "    return data\n",
    "\n",
    "# Function to convert the data into properly structured format\n",
    "def convert_data(data):\n",
    "    structured_data = []\n",
    "    for pokemon in data['pokemon']:\n",
    "        entry = {\n",
    "            'id': pokemon['id'],\n",
    "            'num': pokemon['num'],\n",
    "            'name': pokemon['name'],\n",
    "            'img': pokemon['img'],\n",
    "            'type': ', '.join(pokemon['type']),\n",
    "            'height': pokemon['height'],\n",
    "            'weight': pokemon['weight'],\n",
    "            'candy': pokemon.get('candy', ''),\n",
    "            'candy_count': pokemon.get('candy_count', 0),\n",
    "            'egg': pokemon.get('egg', ''),\n",
    "            'spawn_chance': pokemon.get('spawn_chance', 0),\n",
    "            'avg_spawns': pokemon.get('avg_spawns', 0),\n",
    "            'spawn_time': pokemon.get('spawn_time', ''),\n",
    "            'multipliers' : pokemon.get('multipliers',np.NaN),\n",
    "            'weakness': ', '.join(pokemon['weaknesses']),\n",
    "            'next_evolution': ', '.join([evolution['name'] for evolution in pokemon.get('next_evolution', [])]),\n",
    "            'prev_evolution': ', '.join([evolution['name'] for evolution in pokemon.get('prev_evolution', [])])\n",
    "        }\n",
    "        structured_data.append(entry)\n",
    "    return structured_data\n",
    "\n",
    "# Function to save data in Excel format\n",
    "def save_to_excel(data, filename):\n",
    "    df = pd.DataFrame(data)\n",
    "    df.to_excel(filename, index=False)\n",
    "\n",
    "# Main program\n",
    "if __name__ == '__main__':\n",
    "    url = 'https://raw.githubusercontent.com/Biuni/PokemonGO-Pokedex/master/pokedex.json'\n",
    "    filename = 'pokemon_data.xlsx'\n",
    "\n",
    "    # Download data\n",
    "    data = download_data(url)\n",
    "\n",
    "    # Convert data\n",
    "    structured_data = convert_data(data)\n",
    "\n",
    "    # Save data to Excel\n",
    "    save_to_excel(structured_data, filename)\n",
    "df3=pd.read_excel('pokemon_data.xlsx')\n",
    "df3.head()"
   ]
  },
  {
   "cell_type": "markdown",
   "id": "97aa9649",
   "metadata": {},
   "source": [
    "\n",
    "a) Get all Pokemons whose spawn rate is less than 5%"
   ]
  },
  {
   "cell_type": "code",
   "execution_count": 8,
   "id": "0dd14ad9",
   "metadata": {},
   "outputs": [
    {
     "name": "stdout",
     "output_type": "stream",
     "text": [
      "['Ivysaur', 'Venusaur', 'Charmeleon', 'Charizard', 'Wartortle', 'Blastoise', 'Butterfree', 'Raichu', 'Sandslash', 'Nidoqueen', 'Nidoking', 'Clefable', 'Ninetales', 'Wigglytuff', 'Vileplume', 'Dugtrio', 'Persian', 'Primeape', 'Arcanine', 'Poliwrath', 'Kadabra', 'Alakazam', 'Machoke', 'Machamp', 'Victreebel', 'Golem', 'Rapidash', 'Slowbro', 'Magneton', \"Farfetch'd\", 'Dewgong', 'Muk', 'Cloyster', 'Gengar', 'Electrode', 'Exeggutor', 'Marowak', 'Hitmonlee', 'Hitmonchan', 'Lickitung', 'Weezing', 'Rhydon', 'Chansey', 'Kangaskhan', 'Seadra', 'Starmie', 'Mr. Mime', 'Gyarados', 'Lapras', 'Ditto', 'Vaporeon', 'Jolteon', 'Flareon', 'Porygon', 'Omastar', 'Kabutops', 'Aerodactyl', 'Snorlax', 'Articuno', 'Zapdos', 'Moltres', 'Dragonair', 'Dragonite', 'Mewtwo', 'Mew']\n"
     ]
    }
   ],
   "source": [
    "filtered_data=df3[df3['spawn_chance']<0.05]\n",
    "\n",
    "pokemon_names = filtered_data['name'].tolist()\n",
    "\n",
    "print(pokemon_names)\n"
   ]
  },
  {
   "cell_type": "markdown",
   "id": "c9a3c6ea",
   "metadata": {},
   "source": [
    "b) Get all Pokemons that have less than 4 weaknesses"
   ]
  },
  {
   "cell_type": "code",
   "execution_count": 9,
   "id": "632f003b",
   "metadata": {},
   "outputs": [
    {
     "name": "stdout",
     "output_type": "stream",
     "text": [
      "['Charmander', 'Charmeleon', 'Charizard', 'Squirtle', 'Wartortle', 'Blastoise', 'Caterpie', 'Metapod', 'Pidgey', 'Pidgeotto', 'Pidgeot', 'Rattata', 'Raticate', 'Spearow', 'Fearow', 'Ekans', 'Arbok', 'Pikachu', 'Raichu', 'Sandshrew', 'Sandslash', 'Nidoran ♀ (Female)', 'Nidorina', 'Nidoran ♂ (Male)', 'Nidorino', 'Clefairy', 'Clefable', 'Vulpix', 'Ninetales', 'Jigglypuff', 'Wigglytuff', 'Diglett', 'Dugtrio', 'Meowth', 'Persian', 'Psyduck', 'Golduck', 'Mankey', 'Primeape', 'Growlithe', 'Arcanine', 'Poliwag', 'Poliwhirl', 'Abra', 'Kadabra', 'Alakazam', 'Machop', 'Machoke', 'Machamp', 'Tentacool', 'Tentacruel', 'Ponyta', 'Rapidash', 'Magnemite', 'Magneton', \"Farfetch'd\", 'Doduo', 'Dodrio', 'Seel', 'Grimer', 'Muk', 'Shellder', 'Drowzee', 'Hypno', 'Krabby', 'Kingler', 'Voltorb', 'Electrode', 'Cubone', 'Marowak', 'Hitmonlee', 'Hitmonchan', 'Lickitung', 'Koffing', 'Weezing', 'Chansey', 'Kangaskhan', 'Horsea', 'Seadra', 'Goldeen', 'Seaking', 'Staryu', 'Mr. Mime', 'Electabuzz', 'Magmar', 'Pinsir', 'Tauros', 'Magikarp', 'Gyarados', 'Ditto', 'Eevee', 'Vaporeon', 'Jolteon', 'Flareon', 'Porygon', 'Snorlax', 'Zapdos', 'Moltres', 'Dratini', 'Dragonair', 'Mewtwo', 'Mew']\n"
     ]
    }
   ],
   "source": [
    "filtered_data = df3[df3['weakness'].str.count(',') < 3]\n",
    "\n",
    "pokemon_names = filtered_data['name'].tolist()\n",
    "\n",
    "print(pokemon_names)\n"
   ]
  },
  {
   "cell_type": "markdown",
   "id": "982c1dfd",
   "metadata": {},
   "source": [
    "c) Get all Pokemons that have no multipliers at all"
   ]
  },
  {
   "cell_type": "code",
   "execution_count": 10,
   "id": "64305c54",
   "metadata": {},
   "outputs": [
    {
     "name": "stdout",
     "output_type": "stream",
     "text": [
      "['Venusaur', 'Charizard', 'Blastoise', 'Butterfree', 'Beedrill', 'Pidgeot', 'Raticate', 'Fearow', 'Arbok', 'Raichu', 'Sandslash', 'Nidoqueen', 'Nidoking', 'Clefable', 'Ninetales', 'Wigglytuff', 'Golbat', 'Vileplume', 'Parasect', 'Venomoth', 'Dugtrio', 'Persian', 'Golduck', 'Primeape', 'Arcanine', 'Poliwrath', 'Alakazam', 'Machamp', 'Victreebel', 'Tentacruel', 'Golem', 'Rapidash', 'Slowbro', 'Magneton', \"Farfetch'd\", 'Dodrio', 'Dewgong', 'Muk', 'Cloyster', 'Gengar', 'Onix', 'Hypno', 'Kingler', 'Electrode', 'Exeggutor', 'Marowak', 'Hitmonlee', 'Hitmonchan', 'Lickitung', 'Weezing', 'Rhydon', 'Chansey', 'Tangela', 'Kangaskhan', 'Seadra', 'Seaking', 'Starmie', 'Mr. Mime', 'Scyther', 'Jynx', 'Electabuzz', 'Magmar', 'Pinsir', 'Tauros', 'Gyarados', 'Lapras', 'Ditto', 'Vaporeon', 'Jolteon', 'Flareon', 'Porygon', 'Omastar', 'Kabutops', 'Aerodactyl', 'Snorlax', 'Articuno', 'Zapdos', 'Moltres', 'Dragonite', 'Mewtwo', 'Mew']\n"
     ]
    }
   ],
   "source": [
    "filtered_data = df3[df3['multipliers'].isnull()]\n",
    "\n",
    "pokemon_names = filtered_data['name'].tolist()\n",
    "print(pokemon_names)\n"
   ]
  },
  {
   "cell_type": "markdown",
   "id": "6d7ba4c3",
   "metadata": {},
   "source": [
    "d) Get all Pokemons that do not have more than 2 evolutions"
   ]
  },
  {
   "cell_type": "code",
   "execution_count": 11,
   "id": "b495d751",
   "metadata": {},
   "outputs": [
    {
     "name": "stdout",
     "output_type": "stream",
     "text": [
      "['Bulbasaur', 'Venusaur', 'Charmander', 'Charizard', 'Squirtle', 'Blastoise', 'Caterpie', 'Butterfree', 'Weedle', 'Beedrill', 'Pidgey', 'Pidgeot', 'Rattata', 'Raticate', 'Spearow', 'Fearow', 'Ekans', 'Arbok', 'Pikachu', 'Raichu', 'Sandshrew', 'Sandslash', 'Nidoran ♀ (Female)', 'Nidoqueen', 'Nidoran ♂ (Male)', 'Nidoking', 'Clefairy', 'Clefable', 'Vulpix', 'Ninetales', 'Jigglypuff', 'Wigglytuff', 'Zubat', 'Golbat', 'Oddish', 'Vileplume', 'Paras', 'Parasect', 'Venonat', 'Venomoth', 'Diglett', 'Dugtrio', 'Meowth', 'Persian', 'Psyduck', 'Golduck', 'Mankey', 'Primeape', 'Growlithe', 'Arcanine', 'Poliwag', 'Poliwrath', 'Abra', 'Alakazam', 'Machop', 'Machamp', 'Bellsprout', 'Victreebel', 'Tentacool', 'Tentacruel', 'Geodude', 'Golem', 'Ponyta', 'Rapidash', 'Slowpoke', 'Slowbro', 'Magnemite', 'Magneton', \"Farfetch'd\", 'Doduo', 'Dodrio', 'Seel', 'Dewgong', 'Grimer', 'Muk', 'Shellder', 'Cloyster', 'Gastly', 'Gengar', 'Onix', 'Drowzee', 'Hypno', 'Krabby', 'Kingler', 'Voltorb', 'Electrode', 'Exeggcute', 'Exeggutor', 'Cubone', 'Marowak', 'Hitmonlee', 'Hitmonchan', 'Lickitung', 'Koffing', 'Weezing', 'Rhyhorn', 'Rhydon', 'Chansey', 'Tangela', 'Kangaskhan', 'Horsea', 'Seadra', 'Goldeen', 'Seaking', 'Staryu', 'Starmie', 'Mr. Mime', 'Scyther', 'Jynx', 'Electabuzz', 'Magmar', 'Pinsir', 'Tauros', 'Magikarp', 'Gyarados', 'Lapras', 'Ditto', 'Eevee', 'Vaporeon', 'Jolteon', 'Flareon', 'Porygon', 'Omanyte', 'Omastar', 'Kabuto', 'Kabutops', 'Aerodactyl', 'Snorlax', 'Articuno', 'Zapdos', 'Moltres', 'Dratini', 'Dragonite', 'Mewtwo', 'Mew']\n"
     ]
    }
   ],
   "source": [
    "filtered_names = []\n",
    "\n",
    "for index, row in df3.iterrows():\n",
    "    prev_evolution = row['prev_evolution']\n",
    "    next_evolution = row['next_evolution']\n",
    "    \n",
    "    if pd.isna(prev_evolution) and pd.isna(next_evolution):\n",
    "        filtered_names.append(row['name'])\n",
    "    elif pd.isna(prev_evolution) and next_evolution.count(',') < 3:\n",
    "        filtered_names.append(row['name'])\n",
    "    elif prev_evolution.count(',') < 3 and pd.isna(next_evolution):\n",
    "        filtered_names.append(row['name'])\n",
    "    elif prev_evolution.count(',') == 1 and next_evolution.count(',') == 1:\n",
    "        filtered_names.append(row['name'])\n",
    "    else:\n",
    "        pass\n",
    "\n",
    "print(filtered_names)"
   ]
  },
  {
   "cell_type": "markdown",
   "id": "e05b7927",
   "metadata": {},
   "source": [
    "e) Get all Pokemons whose spawn time is less than 300 seconds"
   ]
  },
  {
   "cell_type": "code",
   "execution_count": 12,
   "id": "8107c8a2",
   "metadata": {},
   "outputs": [
    {
     "data": {
      "text/plain": [
       "array(['Squirtle', 'Blastoise', 'Metapod', 'Weedle', 'Kakuna', 'Beedrill',\n",
       "       'Pidgey', 'Pidgeotto', 'Pidgeot', 'Rattata', 'Raticate', 'Fearow',\n",
       "       'Arbok', 'Pikachu', 'Sandshrew', 'Nidoran ♀ (Female)',\n",
       "       'Nidoran ♂ (Male)', 'Clefairy', 'Clefable', 'Ninetales', 'Golbat',\n",
       "       'Oddish', 'Paras', 'Parasect', 'Venonat', 'Diglett', 'Meowth',\n",
       "       'Persian', 'Psyduck', 'Growlithe', 'Arcanine', 'Poliwag',\n",
       "       'Poliwrath', 'Abra', 'Machop', 'Machamp', 'Bellsprout',\n",
       "       'Tentacool', 'Graveler', 'Ponyta', 'Rapidash', 'Slowbro',\n",
       "       'Magnemite', \"Farfetch'd\", 'Dodrio', 'Muk', 'Cloyster', 'Gastly',\n",
       "       'Haunter', 'Gengar', 'Onix', 'Drowzee', 'Hypno', 'Krabby',\n",
       "       'Kingler', 'Voltorb', 'Electrode', 'Cubone', 'Marowak',\n",
       "       'Hitmonlee', 'Lickitung', 'Rhyhorn', 'Chansey', 'Kangaskhan',\n",
       "       'Horsea', 'Seadra', 'Goldeen', 'Mr. Mime', 'Electabuzz', 'Pinsir',\n",
       "       'Tauros', 'Gyarados', 'Ditto', 'Jolteon', 'Porygon', 'Kabuto',\n",
       "       'Articuno', 'Zapdos', 'Moltres', 'Mewtwo', 'Mew'], dtype=object)"
      ]
     },
     "execution_count": 12,
     "metadata": {},
     "output_type": "execute_result"
    }
   ],
   "source": [
    "import numpy as np\n",
    "\n",
    "df3['spawn_time'] = df3['spawn_time'].fillna('00:00').astype(str)\n",
    "\n",
    "df3['spawn_time_seconds'] = df3['spawn_time'].str.split(':').apply(lambda x: int(x[0]) * 60 + int(x[1]) if x[0].isdigit() and x[1].isdigit() else np.nan)\n",
    "\n",
    "filtered_pokemon = df3[df3['spawn_time_seconds'] < 300]\n",
    "\n",
    "df3.drop('spawn_time_seconds', axis=1, inplace=True)\n",
    "filtered_pokemon['name'].unique()"
   ]
  }
 ],
 "metadata": {
  "kernelspec": {
   "display_name": "Python 3 (ipykernel)",
   "language": "python",
   "name": "python3"
  },
  "language_info": {
   "codemirror_mode": {
    "name": "ipython",
    "version": 3
   },
   "file_extension": ".py",
   "mimetype": "text/x-python",
   "name": "python",
   "nbconvert_exporter": "python",
   "pygments_lexer": "ipython3",
   "version": "3.10.9"
  }
 },
 "nbformat": 4,
 "nbformat_minor": 5
}
