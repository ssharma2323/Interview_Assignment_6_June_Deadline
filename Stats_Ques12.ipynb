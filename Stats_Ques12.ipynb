{
 "cells": [
  {
   "cell_type": "markdown",
   "id": "de0cb3a2",
   "metadata": {},
   "source": [
    "Q-12. A pharmaceutical company develops a new drug and wants to compare its effectiveness against a standard drug for treating a particular condition. They conduct a study with two groups: Group A receives the new drug, and Group B receives the standard drug. The company measures the improvement in a specific symptom for both groups after a 4-week treatment period. a. The company collects data from 30 patients in each group and calculates the mean improvement score and the standard deviation of improvement for each group. The mean improvement score for Group A is 2.5 with a standard deviation of 0.8, while the mean improvement score for Group B is 2.2 with a standard deviation of 0.6. Conduct a t-test to determine if there is a significant difference in the mean improvement scores between the two groups. Use a significance level of 0.05. b. Based on the t-test results, state whether the null hypothesis should be rejected or not. Provide a conclusion in the context of the study.\n",
    "\n",
    "The ttest_ind_from_stats function is useful when you have the sample statistics readily available, allowing you to perform the t-test without needing the actual data arrays. This can be convenient in situations where the original data is not accessible or when you only have summary statistics."
   ]
  },
  {
   "cell_type": "code",
   "execution_count": 2,
   "id": "657782a5",
   "metadata": {},
   "outputs": [
    {
     "name": "stdout",
     "output_type": "stream",
     "text": [
      "0.10575916705583671\n"
     ]
    }
   ],
   "source": [
    "from scipy import stats\n",
    "\n",
    "\n",
    "#The ttest_ind_from_stats function is useful when you have the sample statistics readily available, allowing you to \n",
    "#perform the t-test without needing the actual data arrays. This can be convenient in situations where the \n",
    "#original data is not accessible or when you only have summary statistics.\n",
    "mean_A = 2.5\n",
    "std_A = 0.8\n",
    "n_A = 30\n",
    "mean_B = 2.2\n",
    "std_B = 0.6\n",
    "n_B = 30\n",
    "\n",
    "t_statistic, p_value = stats.ttest_ind_from_stats(mean_A, std_A, n_A, mean_B, std_B, n_B)\n",
    "\n",
    "alpha = 0.05  \n",
    "\n",
    "print(p_value)"
   ]
  },
  {
   "cell_type": "markdown",
   "id": "c78aae34",
   "metadata": {},
   "source": [
    "Since p_value>0.05 so we cannot reject null hypothsis.So There is no significant difference in the mean improvement scores between the two groups."
   ]
  },
  {
   "cell_type": "code",
   "execution_count": null,
   "id": "fda00c0f",
   "metadata": {},
   "outputs": [],
   "source": []
  }
 ],
 "metadata": {
  "kernelspec": {
   "display_name": "Python 3 (ipykernel)",
   "language": "python",
   "name": "python3"
  },
  "language_info": {
   "codemirror_mode": {
    "name": "ipython",
    "version": 3
   },
   "file_extension": ".py",
   "mimetype": "text/x-python",
   "name": "python",
   "nbconvert_exporter": "python",
   "pygments_lexer": "ipython3",
   "version": "3.10.9"
  }
 },
 "nbformat": 4,
 "nbformat_minor": 5
}
