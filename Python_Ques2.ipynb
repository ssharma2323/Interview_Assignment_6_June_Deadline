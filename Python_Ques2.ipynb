{
 "cells": [
  {
   "cell_type": "markdown",
   "id": "d8b9e6f6",
   "metadata": {},
   "source": [
    "Q-2) Consider a string to be valid if all characters of the string appear the same number of times. It is also valid if he can remove just one character at the index in the string, and the remaining characters will occur the same number of times. Given a string, determine if it is valid. If so, return YES , otherwise return NO . Note - You have to write at least 2 additional test cases in which your program will run successfully and provide an explanation for the same. Example input 1 - s = “abc”. This is a valid string because frequencies are { “a”: 1, “b”: 1, “c”: 1 } Example output 1- YES Example input 2 - s “abcc”. This string is not valid as we can remove only 1 occurrence of “c”. That leaves character frequencies of { “a”: 1, “b”: 1 , “c”: 2 } Example output 2 - NO"
   ]
  },
  {
   "cell_type": "code",
   "execution_count": 10,
   "id": "3d778d17",
   "metadata": {},
   "outputs": [],
   "source": [
    "from collections import Counter\n",
    "def valid_check(text):\n",
    "    character_counts = Counter(text)\n",
    "    count = list(character_counts.values())\n",
    "    unique_count = set(count)\n",
    "\n",
    "    if len(unique_count) == 0:\n",
    "        return 'no string given'\n",
    "    elif len(unique_count) == 1:\n",
    "        return 'valid'\n",
    "    elif len(unique_count) > 2:\n",
    "        return 'not valid'\n",
    "    elif len(unique_count) == 2:\n",
    "        if abs(list(unique_count)[0] - list(unique_count)[1]) == 1:\n",
    "            return 'valid' \n",
    "        else:\n",
    "            return 'not valid'"
   ]
  },
  {
   "cell_type": "code",
   "execution_count": 11,
   "id": "9577a8e2",
   "metadata": {},
   "outputs": [
    {
     "data": {
      "text/plain": [
       "'valid'"
      ]
     },
     "execution_count": 11,
     "metadata": {},
     "output_type": "execute_result"
    }
   ],
   "source": [
    "valid_check('abc')"
   ]
  },
  {
   "cell_type": "code",
   "execution_count": 12,
   "id": "71644618",
   "metadata": {},
   "outputs": [
    {
     "data": {
      "text/plain": [
       "'valid'"
      ]
     },
     "execution_count": 12,
     "metadata": {},
     "output_type": "execute_result"
    }
   ],
   "source": [
    "valid_check('abcc')"
   ]
  },
  {
   "cell_type": "code",
   "execution_count": 13,
   "id": "d553a328",
   "metadata": {},
   "outputs": [
    {
     "data": {
      "text/plain": [
       "'no string given'"
      ]
     },
     "execution_count": 13,
     "metadata": {},
     "output_type": "execute_result"
    }
   ],
   "source": [
    "valid_check('')"
   ]
  },
  {
   "cell_type": "code",
   "execution_count": 14,
   "id": "6509d2a4",
   "metadata": {},
   "outputs": [
    {
     "data": {
      "text/plain": [
       "'not valid'"
      ]
     },
     "execution_count": 14,
     "metadata": {},
     "output_type": "execute_result"
    }
   ],
   "source": [
    "valid_check(\"aaaaaabc\")"
   ]
  },
  {
   "cell_type": "code",
   "execution_count": null,
   "id": "008166ec",
   "metadata": {},
   "outputs": [],
   "source": []
  }
 ],
 "metadata": {
  "kernelspec": {
   "display_name": "Python 3 (ipykernel)",
   "language": "python",
   "name": "python3"
  },
  "language_info": {
   "codemirror_mode": {
    "name": "ipython",
    "version": 3
   },
   "file_extension": ".py",
   "mimetype": "text/x-python",
   "name": "python",
   "nbconvert_exporter": "python",
   "pygments_lexer": "ipython3",
   "version": "3.10.9"
  }
 },
 "nbformat": 4,
 "nbformat_minor": 5
}
