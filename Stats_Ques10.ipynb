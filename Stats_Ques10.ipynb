{
 "cells": [
  {
   "cell_type": "markdown",
   "id": "7ce498f9",
   "metadata": {},
   "source": [
    "Q-10. A factory produces light bulbs, and the probability of a bulb being defective is 0.05. The factory produces a large batch of 500 light bulbs. a. What is the probability that exactly 20 bulbs are defective? b. What is the probability that at least 10 bulbs are defective? c. What is the probability that at max 15 bulbs are defective? d. On average, how many defective bulbs would you expect in a batch of 500?"
   ]
  },
  {
   "cell_type": "code",
   "execution_count": 1,
   "id": "a7ff30e4",
   "metadata": {},
   "outputs": [],
   "source": [
    "n=500\n",
    "k=20\n",
    "p=0.05"
   ]
  },
  {
   "cell_type": "code",
   "execution_count": 2,
   "id": "19a2ff9f",
   "metadata": {},
   "outputs": [
    {
     "name": "stdout",
     "output_type": "stream",
     "text": [
      "Probability of exactly 20 bulbs being defective: 0.05161619253663997\n",
      "Probability of at least 10 bulbs being defective: 0.9998316463654692\n",
      "Probability of at most 15 bulbs being defective: 0.019858377163006223\n",
      "Expected number of defective bulbs: 25.0\n"
     ]
    }
   ],
   "source": [
    "import math\n",
    "\n",
    "def binomial_probability(n, k, p):\n",
    "    return math.comb(n, k) * (p ** k) * ((1 - p) ** (n - k))\n",
    "\n",
    "prob_20_defective = binomial_probability(500, 20, 0.05)\n",
    "print(\"Probability of exactly 20 bulbs being defective:\", prob_20_defective)\n",
    "\n",
    "\n",
    "prob_at_least_10_defective = sum(binomial_probability(500, k, 0.05) for k in range(10, 501))\n",
    "print(\"Probability of at least 10 bulbs being defective:\", prob_at_least_10_defective)\n",
    "\n",
    "\n",
    "prob_at_most_15_defective = sum(binomial_probability(500, k, 0.05) for k in range(16))\n",
    "print(\"Probability of at most 15 bulbs being defective:\", prob_at_most_15_defective)\n",
    "\n",
    "\n",
    "expected_defective = 500 * 0.05\n",
    "print(\"Expected number of defective bulbs:\", expected_defective)\n"
   ]
  },
  {
   "cell_type": "code",
   "execution_count": null,
   "id": "3338d766",
   "metadata": {},
   "outputs": [],
   "source": []
  }
 ],
 "metadata": {
  "kernelspec": {
   "display_name": "Python 3 (ipykernel)",
   "language": "python",
   "name": "python3"
  },
  "language_info": {
   "codemirror_mode": {
    "name": "ipython",
    "version": 3
   },
   "file_extension": ".py",
   "mimetype": "text/x-python",
   "name": "python",
   "nbconvert_exporter": "python",
   "pygments_lexer": "ipython3",
   "version": "3.10.9"
  }
 },
 "nbformat": 4,
 "nbformat_minor": 5
}
