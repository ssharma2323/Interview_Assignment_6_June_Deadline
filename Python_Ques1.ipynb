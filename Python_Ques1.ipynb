{
 "cells": [
  {
   "cell_type": "markdown",
   "id": "ffdf2375",
   "metadata": {},
   "source": [
    "Q-1)Write a program that takes a string as input, and counts the frequency of each word in the string, there might be repeated characters in the string. Your task is to find the highest frequency and returns the length of the highest-frequency word. Note - You have to write at least 2 additional test cases in which your program will run successfully and provide an explanation for the same. Example input - string = “write write write all the number from from from 1 to 100” Example output - 5 Explanation - From the given string we can note that the most frequent words are “write” and “from” and the maximum value of both the values is “write” and its corresponding length is 5\n"
   ]
  },
  {
   "cell_type": "code",
   "execution_count": 4,
   "id": "a6872c07",
   "metadata": {},
   "outputs": [],
   "source": [
    "from collections import Counter\n",
    "\n",
    "def key_word():\n",
    "    text=input(\"Give the string\")\n",
    "    words = text.split()\n",
    "    word_counts = Counter(words)\n",
    "    max_count=0\n",
    "    key_wrd=[]\n",
    "    length=[]\n",
    "    if len(text)==0:\n",
    "        return 'No string given'\n",
    "    for word, count in word_counts.items():\n",
    "        if count>max_count:\n",
    "            max_count=count\n",
    "    for word, count in word_counts.items():\n",
    "        if count==max_count:\n",
    "            key_wrd.append(word)\n",
    "    for i in key_wrd:\n",
    "        length.append(len(i))\n",
    "        \n",
    "    return f'{key_wrd} is/are the key word occurring {max_count} number of times and there respective length is {length}'      \n",
    "            \n"
   ]
  },
  {
   "cell_type": "code",
   "execution_count": 5,
   "id": "7b437a71",
   "metadata": {},
   "outputs": [
    {
     "name": "stdout",
     "output_type": "stream",
     "text": [
      "Give the stringwrite write write all the number from from from 1 to 100\n"
     ]
    },
    {
     "data": {
      "text/plain": [
       "\"['write', 'from'] is/are the key word occurring 3 number of times and there respective length is [5, 4]\""
      ]
     },
     "execution_count": 5,
     "metadata": {},
     "output_type": "execute_result"
    }
   ],
   "source": [
    "key_word()"
   ]
  },
  {
   "cell_type": "code",
   "execution_count": 6,
   "id": "30e4e4b3",
   "metadata": {},
   "outputs": [
    {
     "name": "stdout",
     "output_type": "stream",
     "text": [
      "Give the stringwrite write write write all the number from from from 1 to 100\n"
     ]
    },
    {
     "data": {
      "text/plain": [
       "\"['write'] is/are the key word occurring 4 number of times and there respective length is [5]\""
      ]
     },
     "execution_count": 6,
     "metadata": {},
     "output_type": "execute_result"
    }
   ],
   "source": [
    "key_word()\n"
   ]
  },
  {
   "cell_type": "code",
   "execution_count": 7,
   "id": "161cf952",
   "metadata": {},
   "outputs": [
    {
     "name": "stdout",
     "output_type": "stream",
     "text": [
      "Give the string\n"
     ]
    },
    {
     "data": {
      "text/plain": [
       "'No string given'"
      ]
     },
     "execution_count": 7,
     "metadata": {},
     "output_type": "execute_result"
    }
   ],
   "source": [
    "key_word()\n"
   ]
  },
  {
   "cell_type": "code",
   "execution_count": 8,
   "id": "0d298b56",
   "metadata": {},
   "outputs": [
    {
     "name": "stdout",
     "output_type": "stream",
     "text": [
      "Give the stringwrite write write all the number from from from from from1 to 100\n"
     ]
    },
    {
     "data": {
      "text/plain": [
       "\"['from'] is/are the key word occurring 4 number of times and there respective length is [4]\""
      ]
     },
     "execution_count": 8,
     "metadata": {},
     "output_type": "execute_result"
    }
   ],
   "source": [
    "key_word()\n"
   ]
  }
 ],
 "metadata": {
  "kernelspec": {
   "display_name": "Python 3 (ipykernel)",
   "language": "python",
   "name": "python3"
  },
  "language_info": {
   "codemirror_mode": {
    "name": "ipython",
    "version": 3
   },
   "file_extension": ".py",
   "mimetype": "text/x-python",
   "name": "python",
   "nbconvert_exporter": "python",
   "pygments_lexer": "ipython3",
   "version": "3.10.9"
  }
 },
 "nbformat": 4,
 "nbformat_minor": 5
}
