{
 "cells": [
  {
   "cell_type": "markdown",
   "id": "e906faeb",
   "metadata": {},
   "source": [
    "Q-9) Test the hypothesis that the mean scores of all the students are the same. If not, name the student with the highest score"
   ]
  },
  {
   "cell_type": "code",
   "execution_count": 1,
   "id": "7983f77d",
   "metadata": {},
   "outputs": [
    {
     "name": "stdout",
     "output_type": "stream",
     "text": [
      "F-value: 0.3236947791164659\n",
      "F critical value from table is 8.51\n"
     ]
    }
   ],
   "source": [
    "import numpy as np\n",
    "from scipy.stats import f_oneway\n",
    "\n",
    "\n",
    "#F test\n",
    "exam_1 = [85, 70, 90, 75, 95]\n",
    "exam_2 = [90, 80, 85, 70, 92]\n",
    "full_exam = [92, 85, 88, 75, 96]\n",
    "\n",
    "f_value, p_value = f_oneway(exam_1, exam_2, full_exam)\n",
    "\n",
    "\n",
    "\n",
    "\n",
    "\n",
    "print(\"F-value:\", f_value)\n",
    "print(\"F critical value from table is 8.51\")\n",
    "\n"
   ]
  },
  {
   "cell_type": "markdown",
   "id": "40c285a3",
   "metadata": {},
   "source": [
    "Since the F-value (0.323694779) is less than 8.51, we fail to reject the null hypothesis.Therefore, there is not enough evidence to conclude that the mean scores of all the students are significantly different.\n",
    "\n",
    "and Jeevan has the highest scores in all three exams with scores of 95, 92, and 96 in Exam 1, Exam 2, and Full Exam"
   ]
  }
 ],
 "metadata": {
  "kernelspec": {
   "display_name": "Python 3 (ipykernel)",
   "language": "python",
   "name": "python3"
  },
  "language_info": {
   "codemirror_mode": {
    "name": "ipython",
    "version": 3
   },
   "file_extension": ".py",
   "mimetype": "text/x-python",
   "name": "python",
   "nbconvert_exporter": "python",
   "pygments_lexer": "ipython3",
   "version": "3.10.9"
  }
 },
 "nbformat": 4,
 "nbformat_minor": 5
}
